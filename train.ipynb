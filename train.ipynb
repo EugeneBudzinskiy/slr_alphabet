{
  "nbformat": 4,
  "nbformat_minor": 0,
  "metadata": {
    "colab": {
      "provenance": [],
      "gpuType": "T4"
    },
    "kernelspec": {
      "name": "python3",
      "display_name": "Python 3"
    },
    "language_info": {
      "name": "python"
    },
    "accelerator": "GPU"
  },
  "cells": [
    {
      "cell_type": "code",
      "execution_count": 1,
      "metadata": {
        "colab": {
          "base_uri": "https://localhost:8080/"
        },
        "id": "kYn0zSTC7mx0",
        "outputId": "478c07d7-83ca-4ee9-f160-657f72fb271a"
      },
      "outputs": [
        {
          "output_type": "stream",
          "name": "stdout",
          "text": [
            "Mounted at /content/drive\n"
          ]
        }
      ],
      "source": [
        "# Load the Drive helper and mount\n",
        "from google.colab import drive\n",
        "# This will prompt for authorization.\n",
        "drive.mount('/content/drive')"
      ]
    },
    {
      "cell_type": "code",
      "source": [
        "# Import Libraries\n",
        "\n",
        "# Warning\n",
        "import warnings\n",
        "warnings.filterwarnings(\"ignore\")\n",
        "\n",
        "# Main\n",
        "import os\n",
        "import numpy as np\n",
        "import cv2\n",
        "\n",
        "# Model\n",
        "import tensorflow as tf\n",
        "from keras.applications import VGG16\n",
        "from keras.layers import Dense, Activation, Dropout, Conv2D, MaxPooling2D, BatchNormalization, Rescaling, Input\n",
        "from keras.optimizers import Adam, Adamax\n",
        "from keras.metrics import categorical_crossentropy\n",
        "from keras.models import Model\n",
        "from keras import regularizers\n",
        "from keras.callbacks import ModelCheckpoint\n",
        "from keras.preprocessing.image import ImageDataGenerator"
      ],
      "metadata": {
        "id": "Ot3JXwgh8f4m"
      },
      "execution_count": 2,
      "outputs": []
    },
    {
      "cell_type": "code",
      "source": [
        "PATH_ROOT = \"/content/drive/MyDrive/colab_code/\"  # Root for all folders\n",
        "DATASET_MEMMAP_PATH = \"/content/drive/MyDrive/dataset_synth/data.dat\"\n",
        "LABEL_NPY_PATH = \"/content/drive/MyDrive/dataset_synth/label.npy\"\n",
        "\n",
        "VAL_DATASET_MEMMAP_PATH = \"/content/drive/MyDrive/dataset_synth/test/data.dat\"\n",
        "VAL_LABEL_NPY_PATH = \"/content/drive/MyDrive/dataset_synth/test/label.npy\"\n",
        "\n",
        "EPOCH_NUMBER = 30\n",
        "BATCH_SIZE = 30\n",
        "LEARNING_RATE = 1e-4\n",
        "\n",
        "N_IMAGES_PER_FOLDER = 200\n",
        "N_FOLDERS = 27\n",
        "IMAGE_TOTAL_NUMBER = N_IMAGES_PER_FOLDER * N_FOLDERS\n",
        "IMAGE_SIZE = 200\n",
        "IMAGE_CHANNEL = 3\n",
        "NUMBER_OF_CLASSES = 27\n",
        "\n",
        "VAL_N_IMAGES_PER_FOLDER = 50\n",
        "VAL_IMAGE_TOTAL_NUMBER = VAL_N_IMAGES_PER_FOLDER * N_FOLDERS"
      ],
      "metadata": {
        "id": "H1V_Kar_GIHp"
      },
      "execution_count": 12,
      "outputs": []
    },
    {
      "cell_type": "code",
      "source": [
        "def load_data(path: str, shape: tuple) -> np.ndarray:\n",
        "    params = {\n",
        "        \"filename\": path,\n",
        "        \"dtype\": \"uint8\",\n",
        "        \"mode\": \"r\",\n",
        "        \"shape\": shape\n",
        "    }\n",
        "    return np.memmap(**params)"
      ],
      "metadata": {
        "id": "VvBxuEkobR0Y"
      },
      "execution_count": 4,
      "outputs": []
    },
    {
      "cell_type": "code",
      "source": [
        "data = load_data(DATASET_MEMMAP_PATH, shape=(IMAGE_TOTAL_NUMBER, IMAGE_SIZE, IMAGE_SIZE, IMAGE_CHANNEL))\n",
        "label_raw = np.load(LABEL_NPY_PATH)\n",
        "label = np.zeros((IMAGE_TOTAL_NUMBER, NUMBER_OF_CLASSES), dtype=\"int8\")\n",
        "label[np.arange(IMAGE_TOTAL_NUMBER), label_raw] = 1"
      ],
      "metadata": {
        "id": "agg2_fQKPlI0"
      },
      "execution_count": 5,
      "outputs": []
    },
    {
      "cell_type": "code",
      "source": [
        "trgen = ImageDataGenerator(\n",
        "    horizontal_flip=True,\n",
        "    rotation_range=20,\n",
        "    width_shift_range=.2,\n",
        "    height_shift_range=.2,\n",
        "    zoom_range=.2\n",
        ")\n",
        "\n",
        "train_dataset = trgen.flow(x=data, y=label, batch_size=BATCH_SIZE, shuffle=True)"
      ],
      "metadata": {
        "id": "_IXb-L3JaJoy"
      },
      "execution_count": 6,
      "outputs": []
    },
    {
      "cell_type": "code",
      "source": [
        "data_test = load_data(VAL_DATASET_MEMMAP_PATH, shape=(VAL_IMAGE_TOTAL_NUMBER, IMAGE_SIZE, IMAGE_SIZE, IMAGE_CHANNEL))\n",
        "label_test_raw = np.load(VAL_LABEL_NPY_PATH)\n",
        "label_test = np.zeros((VAL_IMAGE_TOTAL_NUMBER, NUMBER_OF_CLASSES), dtype=\"int8\")\n",
        "label_test[np.arange(VAL_IMAGE_TOTAL_NUMBER), label_test_raw] = 1"
      ],
      "metadata": {
        "id": "apeSgve9P4Nl"
      },
      "execution_count": 7,
      "outputs": []
    },
    {
      "cell_type": "code",
      "source": [
        "valgen = ImageDataGenerator()\n",
        "\n",
        "test_dataset = valgen.flow(x=data_test, y=label_test, shuffle=False, batch_size=BATCH_SIZE)"
      ],
      "metadata": {
        "id": "-iCgpcTcawM1"
      },
      "execution_count": 8,
      "outputs": []
    },
    {
      "cell_type": "code",
      "source": [
        "inp = Input(shape=[IMAGE_SIZE, IMAGE_SIZE, IMAGE_CHANNEL])\n",
        "scaled_input = Rescaling(scale=1/255, offset=0)(inp)\n",
        "\n",
        "base_model =tf.keras.applications.efficientnet.EfficientNetB3(\n",
        "    include_top=False, weights=\"imagenet\", input_tensor=scaled_input, pooling='max')\n",
        "\n",
        "base_model.trainable = True\n",
        "\n",
        "x = base_model.output\n",
        "x = BatchNormalization(axis=-1, momentum=0.99, epsilon=0.001)(x)\n",
        "x = Dense(\n",
        "    256,\n",
        "    kernel_regularizer=regularizers.l2(l=0.016),\n",
        "    activity_regularizer=regularizers.l1(0.006),\n",
        "    bias_regularizer=regularizers.l1(0.006),\n",
        "    activation='relu'\n",
        ")(x)\n",
        "x = Dropout(rate=.4, seed=123)(x)\n",
        "output = Dense(NUMBER_OF_CLASSES, activation='softmax')(x)\n",
        "\n",
        "model = Model(inputs=inp, outputs=output)"
      ],
      "metadata": {
        "id": "WUlH8afFQWyX"
      },
      "execution_count": 13,
      "outputs": []
    },
    {
      "cell_type": "code",
      "source": [
        "model.compile(\n",
        "    Adamax(learning_rate=LEARNING_RATE),\n",
        "    loss='categorical_crossentropy',\n",
        "    metrics=['accuracy']\n",
        ")\n",
        "\n",
        "# Callbacks\n",
        "checkpoint = ModelCheckpoint(\n",
        "    os.path.join(PATH_ROOT, \"best_weights.h5\"),\n",
        "    save_best_only=True,\n",
        "    monitor='val_accuracy',\n",
        "    mode='max'\n",
        ")"
      ],
      "metadata": {
        "id": "U15jyFWyQlgc"
      },
      "execution_count": 14,
      "outputs": []
    },
    {
      "cell_type": "code",
      "source": [
        "# Train the Model\n",
        "history = model.fit(\n",
        "    train_dataset,\n",
        "    validation_data=test_dataset,\n",
        "    epochs=EPOCH_NUMBER,\n",
        "    callbacks=[checkpoint]\n",
        ")"
      ],
      "metadata": {
        "colab": {
          "base_uri": "https://localhost:8080/",
          "height": 1000
        },
        "id": "0AnSbXs1RBc8",
        "outputId": "3cb09538-ffa7-436e-bc6e-20f22df4ba13"
      },
      "execution_count": 15,
      "outputs": [
        {
          "output_type": "stream",
          "name": "stdout",
          "text": [
            "Epoch 1/30\n",
            "180/180 [==============================] - 141s 511ms/step - loss: 11.6461 - accuracy: 0.0689 - val_loss: 20.0956 - val_accuracy: 0.0370\n",
            "Epoch 2/30\n",
            "180/180 [==============================] - 90s 496ms/step - loss: 10.3115 - accuracy: 0.2119 - val_loss: 12.2842 - val_accuracy: 0.1519\n",
            "Epoch 3/30\n",
            "180/180 [==============================] - 90s 499ms/step - loss: 9.0664 - accuracy: 0.4674 - val_loss: 9.0297 - val_accuracy: 0.5207\n",
            "Epoch 4/30\n",
            "180/180 [==============================] - 92s 508ms/step - loss: 8.1359 - accuracy: 0.6844 - val_loss: 8.1767 - val_accuracy: 0.6741\n",
            "Epoch 5/30\n",
            "180/180 [==============================] - 89s 490ms/step - loss: 7.4807 - accuracy: 0.8163 - val_loss: 8.8896 - val_accuracy: 0.5089\n",
            "Epoch 6/30\n",
            "180/180 [==============================] - 89s 493ms/step - loss: 7.0094 - accuracy: 0.8813 - val_loss: 6.6108 - val_accuracy: 0.9630\n",
            "Epoch 7/30\n",
            "180/180 [==============================] - 86s 474ms/step - loss: 6.5853 - accuracy: 0.9187 - val_loss: 7.0083 - val_accuracy: 0.7770\n",
            "Epoch 8/30\n",
            "180/180 [==============================] - 86s 476ms/step - loss: 6.1749 - accuracy: 0.9469 - val_loss: 6.1856 - val_accuracy: 0.8933\n",
            "Epoch 9/30\n",
            "180/180 [==============================] - 86s 478ms/step - loss: 5.7836 - accuracy: 0.9619 - val_loss: 5.8406 - val_accuracy: 0.8993\n",
            "Epoch 10/30\n",
            "180/180 [==============================] - 91s 504ms/step - loss: 5.3915 - accuracy: 0.9683 - val_loss: 5.1179 - val_accuracy: 0.9889\n",
            "Epoch 11/30\n",
            "180/180 [==============================] - 88s 488ms/step - loss: 5.0060 - accuracy: 0.9770 - val_loss: 4.9262 - val_accuracy: 0.9519\n",
            "Epoch 12/30\n",
            "180/180 [==============================] - 88s 489ms/step - loss: 4.6260 - accuracy: 0.9857 - val_loss: 4.3648 - val_accuracy: 0.9985\n",
            "Epoch 13/30\n",
            "180/180 [==============================] - 88s 486ms/step - loss: 4.2763 - accuracy: 0.9819 - val_loss: 4.0855 - val_accuracy: 0.9859\n",
            "Epoch 14/30\n",
            "180/180 [==============================] - 86s 478ms/step - loss: 3.9245 - accuracy: 0.9902 - val_loss: 3.7561 - val_accuracy: 0.9867\n",
            "Epoch 15/30\n",
            "180/180 [==============================] - 85s 471ms/step - loss: 3.5965 - accuracy: 0.9917 - val_loss: 3.3797 - val_accuracy: 0.9978\n",
            "Epoch 16/30\n",
            "180/180 [==============================] - 87s 482ms/step - loss: 3.2923 - accuracy: 0.9926 - val_loss: 3.1118 - val_accuracy: 0.9941\n",
            "Epoch 17/30\n",
            "180/180 [==============================] - 85s 472ms/step - loss: 3.0008 - accuracy: 0.9939 - val_loss: 3.0364 - val_accuracy: 0.9519\n",
            "Epoch 18/30\n",
            "180/180 [==============================] - 89s 491ms/step - loss: 2.7428 - accuracy: 0.9948 - val_loss: 2.6050 - val_accuracy: 0.9911\n",
            "Epoch 19/30\n",
            "180/180 [==============================] - 86s 478ms/step - loss: 2.5042 - accuracy: 0.9946 - val_loss: 2.4234 - val_accuracy: 0.9793\n",
            "Epoch 20/30\n",
            "180/180 [==============================] - 88s 490ms/step - loss: 2.2862 - accuracy: 0.9948 - val_loss: 2.1810 - val_accuracy: 0.9874\n",
            "Epoch 21/30\n",
            "180/180 [==============================] - 90s 498ms/step - loss: 2.0836 - accuracy: 0.9957 - val_loss: 1.9253 - val_accuracy: 1.0000\n",
            "Epoch 22/30\n",
            "180/180 [==============================] - 89s 491ms/step - loss: 1.8987 - accuracy: 0.9961 - val_loss: 1.7535 - val_accuracy: 0.9993\n",
            "Epoch 23/30\n",
            "180/180 [==============================] - 87s 479ms/step - loss: 1.7287 - accuracy: 0.9969 - val_loss: 1.6345 - val_accuracy: 0.9933\n",
            "Epoch 24/30\n",
            "180/180 [==============================] - 86s 479ms/step - loss: 1.5738 - accuracy: 0.9976 - val_loss: 1.4542 - val_accuracy: 0.9978\n",
            "Epoch 25/30\n",
            "180/180 [==============================] - 88s 489ms/step - loss: 1.4356 - accuracy: 0.9972 - val_loss: 1.3171 - val_accuracy: 1.0000\n",
            "Epoch 26/30\n",
            "180/180 [==============================] - 87s 482ms/step - loss: 1.3145 - accuracy: 0.9976 - val_loss: 1.2334 - val_accuracy: 0.9963\n"
          ]
        }
      ]
    }
  ]
}